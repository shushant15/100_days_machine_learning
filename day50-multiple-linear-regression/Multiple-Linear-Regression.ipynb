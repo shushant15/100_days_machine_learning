{
 "cells": [
  {
   "cell_type": "code",
   "execution_count": 5,
   "id": "9a2221a7",
   "metadata": {},
   "outputs": [],
   "source": [
    "from sklearn.datasets import make_regression\n",
    "import pandas as pd\n",
    "import numpy as np\n",
    "\n",
    "import plotly.express as px\n",
    "import plotly.graph_objects as go\n",
    "\n",
    "from sklearn.metrics import mean_absolute_error,mean_squared_error,r2_score"
   ]
  },
  {
   "cell_type": "code",
   "execution_count": 6,
   "id": "921a92b3",
   "metadata": {},
   "outputs": [],
   "source": [
    "X,y = make_regression(n_samples=100, n_features=2, n_informative=2, n_targets=1, noise=50)"
   ]
  },
  {
   "cell_type": "code",
   "execution_count": 7,
   "id": "49f92700",
   "metadata": {},
   "outputs": [],
   "source": [
    "df = pd.DataFrame({'feature1':X[:,0],'feature2':X[:,1],'target':y})"
   ]
  },
  {
   "cell_type": "code",
   "execution_count": 8,
   "id": "ced749cc",
   "metadata": {},
   "outputs": [
    {
     "data": {
      "application/vnd.plotly.v1+json": {
       "config": {
        "plotlyServerURL": "https://plot.ly"
       },
       "data": [
        {
         "hovertemplate": "feature1=%{x}<br>feature2=%{y}<br>target=%{z}<extra></extra>",
         "legendgroup": "",
         "marker": {
          "color": "#636efa",
          "symbol": "circle"
         },
         "mode": "markers",
         "name": "",
         "scene": "scene",
         "showlegend": false,
         "type": "scatter3d",
         "x": {
          "bdata": "2g4ndfte2j+uLeitGd/ePxFOIvXe0u2/XzWY4vQUA0Bv2HVxm63oP1vXDkjkC/Q//BHLrzA98T/gDj+Q4ZSyv7riJ5LPAtW/ySWECLdl4b+61qzo5k/hvzV6BcS/nMY/NzKEb54l+D8h1geFsrHyP0qWOd8vRtI/EJEkEH2l5r/h8kXOqW/hv6ENVEJPOqu/AEcZVkpqvb+U1nKg6x7bP85XFrbtpd0/XDyqEK9Zuz9zJUkpYHiUPwtS15zkqfc/vFH9QaXO2r9NOzE10KPmP+F9jl/WxuE/N56QTeEF+r9TxFh96gb1P0UcB91j7/K/SDM9LASf6b98iV/PKpDrPy3x6rze2to/HEM87bS/yr+ZDK+ZaRnnv9Cyap+IBfM/wlSp7WKU9r+DQQFbQInxPxP33h6RaMM/6qoo7Up/hz+r09mUdh6gPwWQ8okAf/S/5J9Qm4NOxT9QEsJ/3dLTP0RzxNkPUvS/WMQ//9f15T8eKz8T/Oi+P4kYHNppve0/CExc8dBwiz/wJd0zDgr8v0mbgD4yUei/wyOiYCQI2j+lDUL9gWrKP1QX92DNYcI/nk0Dqmha6D/tTyHX2Czfv+XsH2ALbfS/IGiEF8vY4T/iVJ91F2juv+KQr8ujqOa/n5GSYAoq6T8ufnZxb4HlP4r5AdObBeA/+9WSOBwW6j9knw+pYAvwPwKIQ1fyoLi/R+Q+KLAA9L90BLR99nnYP3+ag4iUa3S/DlGSkvx+zz/AjT0SomXpv6RhoVhvo7U/0Evqa1YjyT/3NDRKYgH2P2DMK7NRsfO/amqwEOht3j96yL7q+gbdPz2GSs5g6JY/NEKXyWaf8T9cO1/d9DXzv5zIRFSLp/i/7gsP55ku9r9wvM6Q5C/hv2ss8CnfPuQ/8FG6E0Bl/T/4JGe07XPqv2c8z6iFqOi/C2U4CX9SwL8pysc0AHYFwGLstXAPmwBA5hYzyeDl5r9Fiyp21LfRv4XJnuRDF9y/g4D6V5x9w7+DPZvBjNTpvwYM0bI/rec/laYvW0AB4z/YpkiL3oPDv8EfwKYeRtG/m1GdAhB28L8=",
          "dtype": "f8"
         },
         "y": {
          "bdata": "G/QRt+zBwD9jK0tQKsPjvyWbzTtrIca/qrNesdqd6j9VT0BTgrr0v+MqpkayKeu/aq16/7BPBsB5sz0AbB/ov+sgByNhwuu/DQQp/oup4D9X7WYVADb1P/AyylpGObU/S1AbSpwH6D9vUs6tUpDev66EPaMf5te/sJ/CHtvb3b+aVXXVfRDTv/uNfKD23ck/32DUFHy6oL8bW69I2H3iP06+2+6GKds/qLQI0cZM578dMBbp9yOZvzBLVsT7cuy/BT1k9QBs9z9rhvrTjPfjv2E7dewHc+k/COqnklNH4L8/pfXdDYzVv2THmVrIgMW/4KAo0Jly6r81GK5C8P7jv4vRI16jI9k/YxzeUrgQ7b8qjal0SB+HP9Ppmhhj5tM/dMiqGlenwz8N3ltMAHq6Pyge8FDzuOS/HMBmbLuz5r9TvBDs1cfPP/Z8nhMgWua/5okLtPtwuT9ZV51UPDXzP+SCI8b78/C/TCtD5dVy7z/wI7ir8THWvz/lZlTeD/E/yIysArg32z9GrF/pBMLkP5kUKktMr+U/+zfP5l69+b+y26vTkzf7vyLLgWuhyea/FJv8Brtp7j9vOVnStY66v8G8cCNXGP6/dA25R0VY2b84kYiobqTvv+cDmx2SxMM/CGMBRIBI7b9wlGpo2GH1v4dpA93uifq/3sQ7jyye2z+g74hU0DLTPxKMlE+/Md6/pr2WLMgquz8urjcKaHDhv11MtmRmgeA/6keZfqUJ4D95TuZHTunwv/P0epWoY96/XsHDqURT4b8P5YFKWTrjP4kEQzrafvI/4F/rDFbSAUBAleVSUrXcP3a4ktv4V9y/bOr6MPFL+j+z7YGe3prjP3BsLxiuQMy/q++DH6Ah1r/n+DzT0AivP4YFPhMOavi/CfXWrmGp8D8urvuuT5LmPx8H8G0a6Ne/kdrZsRf047/O3Tcs5cz7P3y4DQbPW8M/GdLKBumq2L8o82ZoyKXVvyuQD4DcpuG/j1gcoybH1D+SuHYFd1Pmv1jk3UxBzKO/1zaLbHyd8b9DP+ognMTyv1RdcX46yNA/0D0G0z8Jyr8=",
          "dtype": "f8"
         },
         "z": {
          "bdata": "SWw8LD+MUcB2GLvGR2sYQDFVbVBdojJAhJ5mKtVhKUCQxJBhXWgMwIcmfqON3kPACjnBvNUyRMCTI9psA8AtwDyvjOLM1UTAwhhHPvSPP0CgSgwhvLwIwFtP8WAGH1nA09Q3kG6hVkAkcZwu7jxYQBHG4DrABURAuHZOIYKyUMBg6rKkPAFAQHD+5MOhZjhA4lrAwooTSsBwpy4uQ1sawJENnQ0hLzrAxkhBUMJeUMAkMRJ8Cv0TwDxMAecbn0TADzcR8JzhS8AUBgBtJdEwwEIW9/dHZldAEOw+IQoiZMCgkzQzLxDXvwJUe7thwkbATY0wCwj+T0DQ4cewImMTQH85qmxuq0pAmv0gi8E9TcCZzLrA3XkuwJSgJF0ozxbAZCD7Zl82RkDK1SyhUWRHwIXdYQJMbFFAa0lvWi9iU8D3ZyFoVZBKwEZFLutGLkLAtDZmwKTSM0Be5h8ndalVQNz7IcfWNF3AqYg6Y+JnTMBK9kPqem9CQFiZYXwZhWJAOx+pkbzfUsCJWAJSnHcxwIEIWSCdQDfAonHJaVetWcDYFNHFSOBbwJ1KQqZNgmHAwLh9RuGa7j/Ad9EY9LnzP6GrhxnavFbAp6jM6R/dRUBgyesJUVwlQKIJdHnebUpAiupSmXVwNEBCgef25EQ6wCngwRsQDjHASLpgHVHrJ8Bkh4ZRO1w/QBxv8Qw/byvAaR7uetxEQUDqi7ZPCL4vQM3MDQBbD1bAxKRRKfeiXEAPVV3FNeVSwLmz21R2ZiZA+GAYIvFMQ8DQvP45F1tJQBxY/IT9Q0LAVLU0WjsUUkCnI603Gqs2QBNeXfkfg1TAyBDPwjV4Y0Co4DAGaDVQQJIo4SQlWlLAkIOx+Y/+HsB3zutzbgVBQIBvijp24kBAwA8AcYESUkC3TmPZzSZJQAqEk8h5j1LArvLgmZtNLcA69mVBO4EfQAgANDmAbArAQOv4xJpIT8Av0/OSofAnwAZIBnF8mUbAVOuWLIvQBsA/KbTz1J81wBR9pC/IaUjAolv6DFCvUMCc0E9+SI4iQOa6dKvVKVBA7hvll6bpQEA=",
          "dtype": "f8"
         }
        }
       ],
       "layout": {
        "legend": {
         "tracegroupgap": 0
        },
        "margin": {
         "t": 60
        },
        "scene": {
         "domain": {
          "x": [
           0,
           1
          ],
          "y": [
           0,
           1
          ]
         },
         "xaxis": {
          "title": {
           "text": "feature1"
          }
         },
         "yaxis": {
          "title": {
           "text": "feature2"
          }
         },
         "zaxis": {
          "title": {
           "text": "target"
          }
         }
        },
        "template": {
         "data": {
          "bar": [
           {
            "error_x": {
             "color": "#2a3f5f"
            },
            "error_y": {
             "color": "#2a3f5f"
            },
            "marker": {
             "line": {
              "color": "#E5ECF6",
              "width": 0.5
             },
             "pattern": {
              "fillmode": "overlay",
              "size": 10,
              "solidity": 0.2
             }
            },
            "type": "bar"
           }
          ],
          "barpolar": [
           {
            "marker": {
             "line": {
              "color": "#E5ECF6",
              "width": 0.5
             },
             "pattern": {
              "fillmode": "overlay",
              "size": 10,
              "solidity": 0.2
             }
            },
            "type": "barpolar"
           }
          ],
          "carpet": [
           {
            "aaxis": {
             "endlinecolor": "#2a3f5f",
             "gridcolor": "white",
             "linecolor": "white",
             "minorgridcolor": "white",
             "startlinecolor": "#2a3f5f"
            },
            "baxis": {
             "endlinecolor": "#2a3f5f",
             "gridcolor": "white",
             "linecolor": "white",
             "minorgridcolor": "white",
             "startlinecolor": "#2a3f5f"
            },
            "type": "carpet"
           }
          ],
          "choropleth": [
           {
            "colorbar": {
             "outlinewidth": 0,
             "ticks": ""
            },
            "type": "choropleth"
           }
          ],
          "contour": [
           {
            "colorbar": {
             "outlinewidth": 0,
             "ticks": ""
            },
            "colorscale": [
             [
              0,
              "#0d0887"
             ],
             [
              0.1111111111111111,
              "#46039f"
             ],
             [
              0.2222222222222222,
              "#7201a8"
             ],
             [
              0.3333333333333333,
              "#9c179e"
             ],
             [
              0.4444444444444444,
              "#bd3786"
             ],
             [
              0.5555555555555556,
              "#d8576b"
             ],
             [
              0.6666666666666666,
              "#ed7953"
             ],
             [
              0.7777777777777778,
              "#fb9f3a"
             ],
             [
              0.8888888888888888,
              "#fdca26"
             ],
             [
              1,
              "#f0f921"
             ]
            ],
            "type": "contour"
           }
          ],
          "contourcarpet": [
           {
            "colorbar": {
             "outlinewidth": 0,
             "ticks": ""
            },
            "type": "contourcarpet"
           }
          ],
          "heatmap": [
           {
            "colorbar": {
             "outlinewidth": 0,
             "ticks": ""
            },
            "colorscale": [
             [
              0,
              "#0d0887"
             ],
             [
              0.1111111111111111,
              "#46039f"
             ],
             [
              0.2222222222222222,
              "#7201a8"
             ],
             [
              0.3333333333333333,
              "#9c179e"
             ],
             [
              0.4444444444444444,
              "#bd3786"
             ],
             [
              0.5555555555555556,
              "#d8576b"
             ],
             [
              0.6666666666666666,
              "#ed7953"
             ],
             [
              0.7777777777777778,
              "#fb9f3a"
             ],
             [
              0.8888888888888888,
              "#fdca26"
             ],
             [
              1,
              "#f0f921"
             ]
            ],
            "type": "heatmap"
           }
          ],
          "histogram": [
           {
            "marker": {
             "pattern": {
              "fillmode": "overlay",
              "size": 10,
              "solidity": 0.2
             }
            },
            "type": "histogram"
           }
          ],
          "histogram2d": [
           {
            "colorbar": {
             "outlinewidth": 0,
             "ticks": ""
            },
            "colorscale": [
             [
              0,
              "#0d0887"
             ],
             [
              0.1111111111111111,
              "#46039f"
             ],
             [
              0.2222222222222222,
              "#7201a8"
             ],
             [
              0.3333333333333333,
              "#9c179e"
             ],
             [
              0.4444444444444444,
              "#bd3786"
             ],
             [
              0.5555555555555556,
              "#d8576b"
             ],
             [
              0.6666666666666666,
              "#ed7953"
             ],
             [
              0.7777777777777778,
              "#fb9f3a"
             ],
             [
              0.8888888888888888,
              "#fdca26"
             ],
             [
              1,
              "#f0f921"
             ]
            ],
            "type": "histogram2d"
           }
          ],
          "histogram2dcontour": [
           {
            "colorbar": {
             "outlinewidth": 0,
             "ticks": ""
            },
            "colorscale": [
             [
              0,
              "#0d0887"
             ],
             [
              0.1111111111111111,
              "#46039f"
             ],
             [
              0.2222222222222222,
              "#7201a8"
             ],
             [
              0.3333333333333333,
              "#9c179e"
             ],
             [
              0.4444444444444444,
              "#bd3786"
             ],
             [
              0.5555555555555556,
              "#d8576b"
             ],
             [
              0.6666666666666666,
              "#ed7953"
             ],
             [
              0.7777777777777778,
              "#fb9f3a"
             ],
             [
              0.8888888888888888,
              "#fdca26"
             ],
             [
              1,
              "#f0f921"
             ]
            ],
            "type": "histogram2dcontour"
           }
          ],
          "mesh3d": [
           {
            "colorbar": {
             "outlinewidth": 0,
             "ticks": ""
            },
            "type": "mesh3d"
           }
          ],
          "parcoords": [
           {
            "line": {
             "colorbar": {
              "outlinewidth": 0,
              "ticks": ""
             }
            },
            "type": "parcoords"
           }
          ],
          "pie": [
           {
            "automargin": true,
            "type": "pie"
           }
          ],
          "scatter": [
           {
            "fillpattern": {
             "fillmode": "overlay",
             "size": 10,
             "solidity": 0.2
            },
            "type": "scatter"
           }
          ],
          "scatter3d": [
           {
            "line": {
             "colorbar": {
              "outlinewidth": 0,
              "ticks": ""
             }
            },
            "marker": {
             "colorbar": {
              "outlinewidth": 0,
              "ticks": ""
             }
            },
            "type": "scatter3d"
           }
          ],
          "scattercarpet": [
           {
            "marker": {
             "colorbar": {
              "outlinewidth": 0,
              "ticks": ""
             }
            },
            "type": "scattercarpet"
           }
          ],
          "scattergeo": [
           {
            "marker": {
             "colorbar": {
              "outlinewidth": 0,
              "ticks": ""
             }
            },
            "type": "scattergeo"
           }
          ],
          "scattergl": [
           {
            "marker": {
             "colorbar": {
              "outlinewidth": 0,
              "ticks": ""
             }
            },
            "type": "scattergl"
           }
          ],
          "scattermap": [
           {
            "marker": {
             "colorbar": {
              "outlinewidth": 0,
              "ticks": ""
             }
            },
            "type": "scattermap"
           }
          ],
          "scattermapbox": [
           {
            "marker": {
             "colorbar": {
              "outlinewidth": 0,
              "ticks": ""
             }
            },
            "type": "scattermapbox"
           }
          ],
          "scatterpolar": [
           {
            "marker": {
             "colorbar": {
              "outlinewidth": 0,
              "ticks": ""
             }
            },
            "type": "scatterpolar"
           }
          ],
          "scatterpolargl": [
           {
            "marker": {
             "colorbar": {
              "outlinewidth": 0,
              "ticks": ""
             }
            },
            "type": "scatterpolargl"
           }
          ],
          "scatterternary": [
           {
            "marker": {
             "colorbar": {
              "outlinewidth": 0,
              "ticks": ""
             }
            },
            "type": "scatterternary"
           }
          ],
          "surface": [
           {
            "colorbar": {
             "outlinewidth": 0,
             "ticks": ""
            },
            "colorscale": [
             [
              0,
              "#0d0887"
             ],
             [
              0.1111111111111111,
              "#46039f"
             ],
             [
              0.2222222222222222,
              "#7201a8"
             ],
             [
              0.3333333333333333,
              "#9c179e"
             ],
             [
              0.4444444444444444,
              "#bd3786"
             ],
             [
              0.5555555555555556,
              "#d8576b"
             ],
             [
              0.6666666666666666,
              "#ed7953"
             ],
             [
              0.7777777777777778,
              "#fb9f3a"
             ],
             [
              0.8888888888888888,
              "#fdca26"
             ],
             [
              1,
              "#f0f921"
             ]
            ],
            "type": "surface"
           }
          ],
          "table": [
           {
            "cells": {
             "fill": {
              "color": "#EBF0F8"
             },
             "line": {
              "color": "white"
             }
            },
            "header": {
             "fill": {
              "color": "#C8D4E3"
             },
             "line": {
              "color": "white"
             }
            },
            "type": "table"
           }
          ]
         },
         "layout": {
          "annotationdefaults": {
           "arrowcolor": "#2a3f5f",
           "arrowhead": 0,
           "arrowwidth": 1
          },
          "autotypenumbers": "strict",
          "coloraxis": {
           "colorbar": {
            "outlinewidth": 0,
            "ticks": ""
           }
          },
          "colorscale": {
           "diverging": [
            [
             0,
             "#8e0152"
            ],
            [
             0.1,
             "#c51b7d"
            ],
            [
             0.2,
             "#de77ae"
            ],
            [
             0.3,
             "#f1b6da"
            ],
            [
             0.4,
             "#fde0ef"
            ],
            [
             0.5,
             "#f7f7f7"
            ],
            [
             0.6,
             "#e6f5d0"
            ],
            [
             0.7,
             "#b8e186"
            ],
            [
             0.8,
             "#7fbc41"
            ],
            [
             0.9,
             "#4d9221"
            ],
            [
             1,
             "#276419"
            ]
           ],
           "sequential": [
            [
             0,
             "#0d0887"
            ],
            [
             0.1111111111111111,
             "#46039f"
            ],
            [
             0.2222222222222222,
             "#7201a8"
            ],
            [
             0.3333333333333333,
             "#9c179e"
            ],
            [
             0.4444444444444444,
             "#bd3786"
            ],
            [
             0.5555555555555556,
             "#d8576b"
            ],
            [
             0.6666666666666666,
             "#ed7953"
            ],
            [
             0.7777777777777778,
             "#fb9f3a"
            ],
            [
             0.8888888888888888,
             "#fdca26"
            ],
            [
             1,
             "#f0f921"
            ]
           ],
           "sequentialminus": [
            [
             0,
             "#0d0887"
            ],
            [
             0.1111111111111111,
             "#46039f"
            ],
            [
             0.2222222222222222,
             "#7201a8"
            ],
            [
             0.3333333333333333,
             "#9c179e"
            ],
            [
             0.4444444444444444,
             "#bd3786"
            ],
            [
             0.5555555555555556,
             "#d8576b"
            ],
            [
             0.6666666666666666,
             "#ed7953"
            ],
            [
             0.7777777777777778,
             "#fb9f3a"
            ],
            [
             0.8888888888888888,
             "#fdca26"
            ],
            [
             1,
             "#f0f921"
            ]
           ]
          },
          "colorway": [
           "#636efa",
           "#EF553B",
           "#00cc96",
           "#ab63fa",
           "#FFA15A",
           "#19d3f3",
           "#FF6692",
           "#B6E880",
           "#FF97FF",
           "#FECB52"
          ],
          "font": {
           "color": "#2a3f5f"
          },
          "geo": {
           "bgcolor": "white",
           "lakecolor": "white",
           "landcolor": "#E5ECF6",
           "showlakes": true,
           "showland": true,
           "subunitcolor": "white"
          },
          "hoverlabel": {
           "align": "left"
          },
          "hovermode": "closest",
          "mapbox": {
           "style": "light"
          },
          "paper_bgcolor": "white",
          "plot_bgcolor": "#E5ECF6",
          "polar": {
           "angularaxis": {
            "gridcolor": "white",
            "linecolor": "white",
            "ticks": ""
           },
           "bgcolor": "#E5ECF6",
           "radialaxis": {
            "gridcolor": "white",
            "linecolor": "white",
            "ticks": ""
           }
          },
          "scene": {
           "xaxis": {
            "backgroundcolor": "#E5ECF6",
            "gridcolor": "white",
            "gridwidth": 2,
            "linecolor": "white",
            "showbackground": true,
            "ticks": "",
            "zerolinecolor": "white"
           },
           "yaxis": {
            "backgroundcolor": "#E5ECF6",
            "gridcolor": "white",
            "gridwidth": 2,
            "linecolor": "white",
            "showbackground": true,
            "ticks": "",
            "zerolinecolor": "white"
           },
           "zaxis": {
            "backgroundcolor": "#E5ECF6",
            "gridcolor": "white",
            "gridwidth": 2,
            "linecolor": "white",
            "showbackground": true,
            "ticks": "",
            "zerolinecolor": "white"
           }
          },
          "shapedefaults": {
           "line": {
            "color": "#2a3f5f"
           }
          },
          "ternary": {
           "aaxis": {
            "gridcolor": "white",
            "linecolor": "white",
            "ticks": ""
           },
           "baxis": {
            "gridcolor": "white",
            "linecolor": "white",
            "ticks": ""
           },
           "bgcolor": "#E5ECF6",
           "caxis": {
            "gridcolor": "white",
            "linecolor": "white",
            "ticks": ""
           }
          },
          "title": {
           "x": 0.05
          },
          "xaxis": {
           "automargin": true,
           "gridcolor": "white",
           "linecolor": "white",
           "ticks": "",
           "title": {
            "standoff": 15
           },
           "zerolinecolor": "white",
           "zerolinewidth": 2
          },
          "yaxis": {
           "automargin": true,
           "gridcolor": "white",
           "linecolor": "white",
           "ticks": "",
           "title": {
            "standoff": 15
           },
           "zerolinecolor": "white",
           "zerolinewidth": 2
          }
         }
        }
       }
      }
     },
     "metadata": {},
     "output_type": "display_data"
    }
   ],
   "source": [
    "fig = px.scatter_3d(df, x='feature1', y='feature2', z='target')\n",
    "\n",
    "fig.show()"
   ]
  },
  {
   "cell_type": "code",
   "execution_count": 9,
   "id": "bfba94f8",
   "metadata": {},
   "outputs": [],
   "source": [
    "from sklearn.model_selection import train_test_split\n",
    "X_train,X_test,y_train,y_test = train_test_split(X,y,test_size=0.2,random_state=3)"
   ]
  },
  {
   "cell_type": "code",
   "execution_count": 10,
   "id": "2c27cf60",
   "metadata": {},
   "outputs": [],
   "source": [
    "from sklearn.linear_model import LinearRegression\n",
    "lr = LinearRegression()\n",
    "lr.fit(X_train,y_train)\n",
    "y_pred = lr.predict(X_test)"
   ]
  },
  {
   "cell_type": "code",
   "execution_count": 11,
   "id": "dfaae1ae",
   "metadata": {},
   "outputs": [
    {
     "name": "stdout",
     "output_type": "stream",
     "text": [
      "MAE 37.31345086474771\n",
      "MSE 2074.634925157584\n",
      "R2 score -0.03570986450813107\n"
     ]
    }
   ],
   "source": [
    "print(\"MAE\",mean_absolute_error(y_test,y_pred))\n",
    "print(\"MSE\",mean_squared_error(y_test,y_pred))\n",
    "print(\"R2 score\",r2_score(y_test,y_pred))"
   ]
  },
  {
   "cell_type": "code",
   "execution_count": 12,
   "id": "85c84008",
   "metadata": {},
   "outputs": [
    {
     "data": {
      "text/plain": [
       "array([16.59399534, 33.51390936])"
      ]
     },
     "execution_count": 12,
     "metadata": {},
     "output_type": "execute_result"
    }
   ],
   "source": [
    "lr.coef_"
   ]
  },
  {
   "cell_type": "code",
   "execution_count": 13,
   "id": "73144d23",
   "metadata": {},
   "outputs": [
    {
     "data": {
      "text/plain": [
       "np.float64(-5.140375076605933)"
      ]
     },
     "execution_count": 13,
     "metadata": {},
     "output_type": "execute_result"
    }
   ],
   "source": [
    "lr.intercept_"
   ]
  }
 ],
 "metadata": {
  "kernelspec": {
   "display_name": "venv (3.9.6)",
   "language": "python",
   "name": "python3"
  },
  "language_info": {
   "codemirror_mode": {
    "name": "ipython",
    "version": 3
   },
   "file_extension": ".py",
   "mimetype": "text/x-python",
   "name": "python",
   "nbconvert_exporter": "python",
   "pygments_lexer": "ipython3",
   "version": "3.9.6"
  }
 },
 "nbformat": 4,
 "nbformat_minor": 5
}
