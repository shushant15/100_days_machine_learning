{
 "cells": [
  {
   "cell_type": "code",
   "execution_count": 1,
   "id": "b393c6c1",
   "metadata": {},
   "outputs": [],
   "source": [
    "import numpy as np\n",
    "import pandas as pd"
   ]
  },
  {
   "cell_type": "code",
   "execution_count": 2,
   "id": "57de89ce",
   "metadata": {},
   "outputs": [
    {
     "data": {
      "text/html": [
       "<div>\n",
       "<style scoped>\n",
       "    .dataframe tbody tr th:only-of-type {\n",
       "        vertical-align: middle;\n",
       "    }\n",
       "\n",
       "    .dataframe tbody tr th {\n",
       "        vertical-align: top;\n",
       "    }\n",
       "\n",
       "    .dataframe thead th {\n",
       "        text-align: right;\n",
       "    }\n",
       "</style>\n",
       "<table border=\"1\" class=\"dataframe\">\n",
       "  <thead>\n",
       "    <tr style=\"text-align: right;\">\n",
       "      <th></th>\n",
       "      <th>Age</th>\n",
       "      <th>Fare</th>\n",
       "      <th>Family</th>\n",
       "      <th>Survived</th>\n",
       "    </tr>\n",
       "  </thead>\n",
       "  <tbody>\n",
       "    <tr>\n",
       "      <th>0</th>\n",
       "      <td>22.0</td>\n",
       "      <td>7.2500</td>\n",
       "      <td>1</td>\n",
       "      <td>0</td>\n",
       "    </tr>\n",
       "    <tr>\n",
       "      <th>1</th>\n",
       "      <td>38.0</td>\n",
       "      <td>71.2833</td>\n",
       "      <td>1</td>\n",
       "      <td>1</td>\n",
       "    </tr>\n",
       "    <tr>\n",
       "      <th>2</th>\n",
       "      <td>26.0</td>\n",
       "      <td>7.9250</td>\n",
       "      <td>0</td>\n",
       "      <td>1</td>\n",
       "    </tr>\n",
       "    <tr>\n",
       "      <th>3</th>\n",
       "      <td>35.0</td>\n",
       "      <td>53.1000</td>\n",
       "      <td>1</td>\n",
       "      <td>1</td>\n",
       "    </tr>\n",
       "    <tr>\n",
       "      <th>4</th>\n",
       "      <td>35.0</td>\n",
       "      <td>8.0500</td>\n",
       "      <td>0</td>\n",
       "      <td>0</td>\n",
       "    </tr>\n",
       "  </tbody>\n",
       "</table>\n",
       "</div>"
      ],
      "text/plain": [
       "    Age     Fare  Family  Survived\n",
       "0  22.0   7.2500       1         0\n",
       "1  38.0  71.2833       1         1\n",
       "2  26.0   7.9250       0         1\n",
       "3  35.0  53.1000       1         1\n",
       "4  35.0   8.0500       0         0"
      ]
     },
     "execution_count": 2,
     "metadata": {},
     "output_type": "execute_result"
    }
   ],
   "source": [
    "df = pd.read_csv('titanic_toy.csv')\n",
    "df.head()"
   ]
  },
  {
   "cell_type": "code",
   "execution_count": 4,
   "id": "fa6e2c56",
   "metadata": {},
   "outputs": [
    {
     "data": {
      "text/plain": [
       "Age         0.198653\n",
       "Fare        0.050505\n",
       "Family      0.000000\n",
       "Survived    0.000000\n",
       "dtype: float64"
      ]
     },
     "execution_count": 4,
     "metadata": {},
     "output_type": "execute_result"
    }
   ],
   "source": [
    "df.isnull().mean()"
   ]
  },
  {
   "cell_type": "code",
   "execution_count": 5,
   "id": "5962c3be",
   "metadata": {},
   "outputs": [],
   "source": [
    "X = df.drop(columns=['Survived'])\n",
    "y = df['Survived']"
   ]
  },
  {
   "cell_type": "code",
   "execution_count": 6,
   "id": "978967df",
   "metadata": {},
   "outputs": [],
   "source": [
    "from sklearn.model_selection import train_test_split\n",
    "\n",
    "X_train,X_test,y_train,y_test = train_test_split(X,y,test_size=0.2,random_state=2)"
   ]
  },
  {
   "cell_type": "code",
   "execution_count": 10,
   "id": "49acf868",
   "metadata": {},
   "outputs": [],
   "source": [
    "X_train['Age_99'] = X_train['Age'].fillna(99)\n",
    "X_train['Age_minus1'] = X_train['Age'].fillna(-1)\n",
    "\n",
    "X_train['Fare_999'] = X_train['Fare'].fillna(999)\n",
    "X_train['Fare_minus1'] = X_train['Fare'].fillna(-1)"
   ]
  },
  {
   "cell_type": "code",
   "execution_count": 12,
   "id": "c0065e6c",
   "metadata": {},
   "outputs": [
    {
     "name": "stdout",
     "output_type": "stream",
     "text": [
      "Original Age variable variance:  204.34951339046142\n",
      "Age Variance after 99 wala imputation:  951.7275570187188\n",
      "Age Variance after -1 wala imputation:  318.0896202624488\n",
      "Original Fare variable variance:  2448.1979137063163\n",
      "Fare Variance after 999 wala imputation:  47219.202652176304\n",
      "Fare Variance after -1 wala imputation:  2378.5676784883494\n"
     ]
    }
   ],
   "source": [
    "print('Original Age variable variance: ', X_train['Age'].var())\n",
    "print('Age Variance after 99 wala imputation: ', X_train['Age_99'].var())\n",
    "print('Age Variance after -1 wala imputation: ', X_train['Age_minus1'].var())\n",
    "\n",
    "print('Original Fare variable variance: ', X_train['Fare'].var())\n",
    "print('Fare Variance after 999 wala imputation: ', X_train['Fare_999'].var())\n",
    "print('Fare Variance after -1 wala imputation: ', X_train['Fare_minus1'].var())"
   ]
  },
  {
   "cell_type": "code",
   "execution_count": 14,
   "id": "6270c685",
   "metadata": {},
   "outputs": [
    {
     "data": {
      "text/plain": [
       "<matplotlib.legend.Legend at 0x15743a6d0>"
      ]
     },
     "execution_count": 14,
     "metadata": {},
     "output_type": "execute_result"
    },
    {
     "data": {
      "image/png": "[encoded data removed]",
      "text/plain": [
       "<Figure size 640x480 with 1 Axes>"
      ]
     },
     "metadata": {},
     "output_type": "display_data"
    }
   ],
   "source": [
    "import matplotlib.pyplot as plt\n",
    "\n",
    "fig = plt.figure()\n",
    "ax = fig.add_subplot(111)\n",
    "\n",
    "# original variable distribution\n",
    "X_train['Age'].plot(kind='kde', ax=ax)\n",
    "\n",
    "# variable imputed with the median\n",
    "X_train['Age_99'].plot(kind='kde', ax=ax, color='red')\n",
    "\n",
    "# variable imputed with the mean\n",
    "X_train['Age_minus1'].plot(kind='kde', ax=ax, color='green')\n",
    "\n",
    "lines, labels = ax.get_legend_handles_labels()\n",
    "ax.legend(lines, labels, loc='best')"
   ]
  },
  {
   "cell_type": "code",
   "execution_count": 15,
   "id": "96d923c1",
   "metadata": {},
   "outputs": [
    {
     "data": {
      "text/plain": [
       "<matplotlib.legend.Legend at 0x157615250>"
      ]
     },
     "execution_count": 15,
     "metadata": {},
     "output_type": "execute_result"
    },
    {
     "data": {
      "image/png": "[encoded data removed]",
      "text/plain": [
       "<Figure size 640x480 with 1 Axes>"
      ]
     },
     "metadata": {},
     "output_type": "display_data"
    }
   ],
   "source": [
    "fig = plt.figure()\n",
    "ax = fig.add_subplot(111)\n",
    "\n",
    "# original variable distribution\n",
    "X_train['Fare'].plot(kind='kde', ax=ax)\n",
    "\n",
    "# variable imputed with the median\n",
    "X_train['Fare_999'].plot(kind='kde', ax=ax, color='red')\n",
    "\n",
    "# variable imputed with the mean\n",
    "X_train['Fare_minus1'].plot(kind='kde', ax=ax, color='green')\n",
    "\n",
    "# add legends\n",
    "lines, labels = ax.get_legend_handles_labels()\n",
    "ax.legend(lines, labels, loc='best')"
   ]
  },
  {
   "cell_type": "code",
   "execution_count": 16,
   "id": "60be06a2",
   "metadata": {},
   "outputs": [
    {
     "data": {
      "text/html": [
       "<div>\n",
       "<style scoped>\n",
       "    .dataframe tbody tr th:only-of-type {\n",
       "        vertical-align: middle;\n",
       "    }\n",
       "\n",
       "    .dataframe tbody tr th {\n",
       "        vertical-align: top;\n",
       "    }\n",
       "\n",
       "    .dataframe thead th {\n",
       "        text-align: right;\n",
       "    }\n",
       "</style>\n",
       "<table border=\"1\" class=\"dataframe\">\n",
       "  <thead>\n",
       "    <tr style=\"text-align: right;\">\n",
       "      <th></th>\n",
       "      <th>Age</th>\n",
       "      <th>Fare</th>\n",
       "      <th>Family</th>\n",
       "      <th>Age_99</th>\n",
       "      <th>Age_minus1</th>\n",
       "      <th>Fare_99</th>\n",
       "      <th>Fare_minus1</th>\n",
       "      <th>Fare_999</th>\n",
       "    </tr>\n",
       "  </thead>\n",
       "  <tbody>\n",
       "    <tr>\n",
       "      <th>Age</th>\n",
       "      <td>204.349513</td>\n",
       "      <td>70.719262</td>\n",
       "      <td>-6.498901</td>\n",
       "      <td>204.349513</td>\n",
       "      <td>204.349513</td>\n",
       "      <td>73.268412</td>\n",
       "      <td>63.321188</td>\n",
       "      <td>162.793430</td>\n",
       "    </tr>\n",
       "    <tr>\n",
       "      <th>Fare</th>\n",
       "      <td>70.719262</td>\n",
       "      <td>2448.197914</td>\n",
       "      <td>17.258917</td>\n",
       "      <td>-101.671097</td>\n",
       "      <td>125.558364</td>\n",
       "      <td>2448.197914</td>\n",
       "      <td>2448.197914</td>\n",
       "      <td>2448.197914</td>\n",
       "    </tr>\n",
       "    <tr>\n",
       "      <th>Family</th>\n",
       "      <td>-6.498901</td>\n",
       "      <td>17.258917</td>\n",
       "      <td>2.735252</td>\n",
       "      <td>-7.387287</td>\n",
       "      <td>-4.149246</td>\n",
       "      <td>16.051452</td>\n",
       "      <td>16.553989</td>\n",
       "      <td>11.528625</td>\n",
       "    </tr>\n",
       "    <tr>\n",
       "      <th>Age_99</th>\n",
       "      <td>204.349513</td>\n",
       "      <td>-101.671097</td>\n",
       "      <td>-7.387287</td>\n",
       "      <td>951.727557</td>\n",
       "      <td>-189.535540</td>\n",
       "      <td>-100.878826</td>\n",
       "      <td>-94.317400</td>\n",
       "      <td>-159.931663</td>\n",
       "    </tr>\n",
       "    <tr>\n",
       "      <th>Age_minus1</th>\n",
       "      <td>204.349513</td>\n",
       "      <td>125.558364</td>\n",
       "      <td>-4.149246</td>\n",
       "      <td>-189.535540</td>\n",
       "      <td>318.089620</td>\n",
       "      <td>128.692715</td>\n",
       "      <td>114.394141</td>\n",
       "      <td>257.379887</td>\n",
       "    </tr>\n",
       "    <tr>\n",
       "      <th>Fare_99</th>\n",
       "      <td>73.268412</td>\n",
       "      <td>2448.197914</td>\n",
       "      <td>16.051452</td>\n",
       "      <td>-100.878826</td>\n",
       "      <td>128.692715</td>\n",
       "      <td>2536.077343</td>\n",
       "      <td>2216.958409</td>\n",
       "      <td>5408.147749</td>\n",
       "    </tr>\n",
       "    <tr>\n",
       "      <th>Fare_minus1</th>\n",
       "      <td>63.321188</td>\n",
       "      <td>2448.197914</td>\n",
       "      <td>16.553989</td>\n",
       "      <td>-94.317400</td>\n",
       "      <td>114.394141</td>\n",
       "      <td>2216.958409</td>\n",
       "      <td>2378.567678</td>\n",
       "      <td>762.474982</td>\n",
       "    </tr>\n",
       "    <tr>\n",
       "      <th>Fare_999</th>\n",
       "      <td>162.793430</td>\n",
       "      <td>2448.197914</td>\n",
       "      <td>11.528625</td>\n",
       "      <td>-159.931663</td>\n",
       "      <td>257.379887</td>\n",
       "      <td>5408.147749</td>\n",
       "      <td>762.474982</td>\n",
       "      <td>47219.202652</td>\n",
       "    </tr>\n",
       "  </tbody>\n",
       "</table>\n",
       "</div>"
      ],
      "text/plain": [
       "                    Age         Fare     Family      Age_99  Age_minus1  \\\n",
       "Age          204.349513    70.719262  -6.498901  204.349513  204.349513   \n",
       "Fare          70.719262  2448.197914  17.258917 -101.671097  125.558364   \n",
       "Family        -6.498901    17.258917   2.735252   -7.387287   -4.149246   \n",
       "Age_99       204.349513  -101.671097  -7.387287  951.727557 -189.535540   \n",
       "Age_minus1   204.349513   125.558364  -4.149246 -189.535540  318.089620   \n",
       "Fare_99       73.268412  2448.197914  16.051452 -100.878826  128.692715   \n",
       "Fare_minus1   63.321188  2448.197914  16.553989  -94.317400  114.394141   \n",
       "Fare_999     162.793430  2448.197914  11.528625 -159.931663  257.379887   \n",
       "\n",
       "                 Fare_99  Fare_minus1      Fare_999  \n",
       "Age            73.268412    63.321188    162.793430  \n",
       "Fare         2448.197914  2448.197914   2448.197914  \n",
       "Family         16.051452    16.553989     11.528625  \n",
       "Age_99       -100.878826   -94.317400   -159.931663  \n",
       "Age_minus1    128.692715   114.394141    257.379887  \n",
       "Fare_99      2536.077343  2216.958409   5408.147749  \n",
       "Fare_minus1  2216.958409  2378.567678    762.474982  \n",
       "Fare_999     5408.147749   762.474982  47219.202652  "
      ]
     },
     "execution_count": 16,
     "metadata": {},
     "output_type": "execute_result"
    }
   ],
   "source": [
    "X_train.cov()"
   ]
  },
  {
   "cell_type": "markdown",
   "id": "9aa67e75",
   "metadata": {},
   "source": [
    "### Using sklearn"
   ]
  },
  {
   "cell_type": "code",
   "execution_count": 17,
   "id": "378f27e9",
   "metadata": {},
   "outputs": [],
   "source": [
    "X_train,X_test,y_train,y_test = train_test_split(X,y,test_size=0.2,random_state=2)"
   ]
  },
  {
   "cell_type": "code",
   "execution_count": 18,
   "id": "cca6f2f5",
   "metadata": {},
   "outputs": [],
   "source": [
    "from sklearn.compose import ColumnTransformer\n",
    "from sklearn.impute import SimpleImputer\n",
    "\n",
    "imputer1 = SimpleImputer(strategy='constant', fill_value=99)\n",
    "imputer2 = SimpleImputer(strategy='constant', fill_value=999)\n"
   ]
  },
  {
   "cell_type": "code",
   "execution_count": 19,
   "id": "e591fccd",
   "metadata": {},
   "outputs": [],
   "source": [
    "trf = ColumnTransformer([\n",
    "    ('imputer1', imputer1,['Age']),\n",
    "    ('imputer2', imputer2, ['Fare'])\n",
    "], remainder='passthrough')"
   ]
  },
  {
   "cell_type": "code",
   "execution_count": 20,
   "id": "9bf94b6d",
   "metadata": {},
   "outputs": [
    {
     "data": {
      "text/plain": [
       "array([[ 40.    ,  27.7208,   0.    ],\n",
       "       [  4.    ,  16.7   ,   2.    ],\n",
       "       [ 47.    ,   9.    ,   0.    ],\n",
       "       ...,\n",
       "       [ 71.    ,  49.5042,   0.    ],\n",
       "       [ 99.    , 221.7792,   0.    ],\n",
       "       [ 99.    ,  25.925 ,   0.    ]])"
      ]
     },
     "execution_count": 20,
     "metadata": {},
     "output_type": "execute_result"
    }
   ],
   "source": [
    "trf.fit_transform(X_train)"
   ]
  },
  {
   "cell_type": "code",
   "execution_count": 21,
   "id": "f3d40b77",
   "metadata": {},
   "outputs": [],
   "source": [
    "X_train = trf.transform(X_train)\n",
    "X_test = trf.transform(X_test)"
   ]
  },
  {
   "cell_type": "code",
   "execution_count": 22,
   "id": "42662fef",
   "metadata": {},
   "outputs": [
    {
     "data": {
      "text/plain": [
       "array([[ 40.    ,  27.7208,   0.    ],\n",
       "       [  4.    ,  16.7   ,   2.    ],\n",
       "       [ 47.    ,   9.    ,   0.    ],\n",
       "       ...,\n",
       "       [ 71.    ,  49.5042,   0.    ],\n",
       "       [ 99.    , 221.7792,   0.    ],\n",
       "       [ 99.    ,  25.925 ,   0.    ]])"
      ]
     },
     "execution_count": 22,
     "metadata": {},
     "output_type": "execute_result"
    }
   ],
   "source": [
    "X_train"
   ]
  },
  {
   "cell_type": "code",
   "execution_count": 25,
   "id": "2f50df5c",
   "metadata": {},
   "outputs": [
    {
     "data": {
      "text/html": [
       "<div>\n",
       "<style scoped>\n",
       "    .dataframe tbody tr th:only-of-type {\n",
       "        vertical-align: middle;\n",
       "    }\n",
       "\n",
       "    .dataframe tbody tr th {\n",
       "        vertical-align: top;\n",
       "    }\n",
       "\n",
       "    .dataframe thead th {\n",
       "        text-align: right;\n",
       "    }\n",
       "</style>\n",
       "<table border=\"1\" class=\"dataframe\">\n",
       "  <thead>\n",
       "    <tr style=\"text-align: right;\">\n",
       "      <th></th>\n",
       "      <th>Age</th>\n",
       "      <th>Fare</th>\n",
       "      <th>Family</th>\n",
       "    </tr>\n",
       "  </thead>\n",
       "  <tbody>\n",
       "    <tr>\n",
       "      <th>0</th>\n",
       "      <td>40.0</td>\n",
       "      <td>27.7208</td>\n",
       "      <td>0.0</td>\n",
       "    </tr>\n",
       "    <tr>\n",
       "      <th>1</th>\n",
       "      <td>4.0</td>\n",
       "      <td>16.7000</td>\n",
       "      <td>2.0</td>\n",
       "    </tr>\n",
       "    <tr>\n",
       "      <th>2</th>\n",
       "      <td>47.0</td>\n",
       "      <td>9.0000</td>\n",
       "      <td>0.0</td>\n",
       "    </tr>\n",
       "    <tr>\n",
       "      <th>3</th>\n",
       "      <td>9.0</td>\n",
       "      <td>31.3875</td>\n",
       "      <td>6.0</td>\n",
       "    </tr>\n",
       "    <tr>\n",
       "      <th>4</th>\n",
       "      <td>20.0</td>\n",
       "      <td>9.8458</td>\n",
       "      <td>0.0</td>\n",
       "    </tr>\n",
       "  </tbody>\n",
       "</table>\n",
       "</div>"
      ],
      "text/plain": [
       "    Age     Fare  Family\n",
       "0  40.0  27.7208     0.0\n",
       "1   4.0  16.7000     2.0\n",
       "2  47.0   9.0000     0.0\n",
       "3   9.0  31.3875     6.0\n",
       "4  20.0   9.8458     0.0"
      ]
     },
     "execution_count": 25,
     "metadata": {},
     "output_type": "execute_result"
    }
   ],
   "source": [
    "X_final = pd.DataFrame(X_train, columns=['Age','Fare','Family'])\n",
    "X_final.head()"
   ]
  },
  {
   "cell_type": "code",
   "execution_count": 26,
   "id": "5528f67f",
   "metadata": {},
   "outputs": [
    {
     "data": {
      "text/plain": [
       "Age       0\n",
       "Fare      0\n",
       "Family    0\n",
       "dtype: int64"
      ]
     },
     "execution_count": 26,
     "metadata": {},
     "output_type": "execute_result"
    }
   ],
   "source": [
    "X_final.isnull().sum()"
   ]
  },
  {
   "cell_type": "code",
   "execution_count": null,
   "id": "af9d0b41",
   "metadata": {},
   "outputs": [],
   "source": []
  }
 ],
 "metadata": {
  "kernelspec": {
   "display_name": "venv (3.9.6)",
   "language": "python",
   "name": "python3"
  },
  "language_info": {
   "codemirror_mode": {
    "name": "ipython",
    "version": 3
   },
   "file_extension": ".py",
   "mimetype": "text/x-python",
   "name": "python",
   "nbconvert_exporter": "python",
   "pygments_lexer": "ipython3",
   "version": "3.9.6"
  }
 },
 "nbformat": 4,
 "nbformat_minor": 5
}
